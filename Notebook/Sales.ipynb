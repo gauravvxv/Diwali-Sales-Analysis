{
  "nbformat": 4,
  "nbformat_minor": 0,
  "metadata": {
    "colab": {
      "provenance": [],
      "authorship_tag": "ABX9TyMPD1FvLGfPng6k99e4Jku2",
      "include_colab_link": true
    },
    "kernelspec": {
      "name": "python3",
      "display_name": "Python 3"
    },
    "language_info": {
      "name": "python"
    }
  },
  "cells": [
    {
      "cell_type": "markdown",
      "metadata": {
        "id": "view-in-github",
        "colab_type": "text"
      },
      "source": [
        "<a href=\"https://colab.research.google.com/github/gauravvxv/Diwali-Sales-Analysis/blob/main/Notebook/Sales.ipynb\" target=\"_parent\"><img src=\"https://colab.research.google.com/assets/colab-badge.svg\" alt=\"Open In Colab\"/></a>"
      ]
    },
    {
      "cell_type": "markdown",
      "source": [
        "# 🎆**Diwali Sales Analysis Project**"
      ],
      "metadata": {
        "id": "TTqeIWKiyOvG"
      }
    },
    {
      "cell_type": "markdown",
      "source": [
        "## 📌 **1. Introduction**\n",
        "\n",
        "In this project, I worked with a messy diwali sales dataset. My goal is to clean the data and explore it using visualization with Matplotlib and seaborn. This helps me to understand sales pattern, prodcut performance, and prepare the data for future analysis."
      ],
      "metadata": {
        "id": "zTIh_3kWymjf"
      }
    },
    {
      "cell_type": "markdown",
      "source": [
        "## **2. Import libraries**\n",
        "\n",
        "We import necessary libraries for data handling and visualization:\n",
        "\n",
        "\n",
        "*   `Pandas` for data manipulation\n",
        "*   `Matplotlib` and `Seaborn` for data visualization\n",
        "\n"
      ],
      "metadata": {
        "id": "TjFpiQHLzal6"
      }
    },
    {
      "cell_type": "code",
      "execution_count": 1,
      "metadata": {
        "id": "NXpZG2v5yK7R"
      },
      "outputs": [],
      "source": [
        "import pandas as pd\n",
        "import matplotlib.pyplot as plt\n",
        "import seaborn as sns\n",
        "%matplotlib inline"
      ]
    },
    {
      "cell_type": "code",
      "source": [],
      "metadata": {
        "id": "UHuKLCnZz_0f"
      },
      "execution_count": null,
      "outputs": []
    }
  ]
}